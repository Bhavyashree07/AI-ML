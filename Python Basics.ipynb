{
 "cells": [
  {
   "cell_type": "code",
   "execution_count": 20,
   "id": "3de573a4",
   "metadata": {},
   "outputs": [
    {
     "name": "stdout",
     "output_type": "stream",
     "text": [
      "enter a number: 5\n",
      "square root: 25\n"
     ]
    }
   ],
   "source": [
    "#program to find the square root of a number\n",
    "number = int(input(\"enter a number: \"))\n",
    "sqrt = number *number\n",
    "print(\"square root:\", sqrt)"
   ]
  },
  {
   "cell_type": "code",
   "execution_count": 21,
   "id": "693a28f5",
   "metadata": {},
   "outputs": [
    {
     "name": "stdout",
     "output_type": "stream",
     "text": [
      "enter a number: 5\n",
      "square root: 2.23606797749979\n"
     ]
    }
   ],
   "source": [
    "number = int(input(\"enter a number: \"))\n",
    "sqrt = number **0.5\n",
    "print(\"square root:\", sqrt)"
   ]
  },
  {
   "cell_type": "code",
   "execution_count": 5,
   "id": "49192e05",
   "metadata": {},
   "outputs": [
    {
     "name": "stdout",
     "output_type": "stream",
     "text": [
      "Enter the Value of a: 1\n",
      "Enter the Value of b: 4\n",
      "Enter the Value of c: 6\n",
      "\n",
      "Root 1 = (-2-1.4142135623730951j)\n",
      "Root 2 = (-2+1.4142135623730951j)\n"
     ]
    }
   ],
   "source": [
    "#program to solve the quadratic equation\n",
    "import cmath\n",
    "print(\"Enter the Value of a: \", end=\"\")\n",
    "a = int(input())\n",
    "print(\"Enter the Value of b: \", end=\"\")\n",
    "b = int(input())\n",
    "print(\"Enter the Value of c: \", end=\"\")\n",
    "c = int(input())\n",
    "discriminant = (b**2) - (4*a*c)\n",
    "solutionOne = (-b-cmath.sqrt(discriminant))/(2*a)\n",
    "solutionTwo = (-b+cmath.sqrt(discriminant))/(2*a)\n",
    "print(\"\\nRoot 1 =\", solutionOne)\n",
    "print(\"Root 2 =\", solutionTwo)"
   ]
  },
  {
   "cell_type": "code",
   "execution_count": 7,
   "id": "3eb5efa3",
   "metadata": {},
   "outputs": [
    {
     "name": "stdout",
     "output_type": "stream",
     "text": [
      "Enter the Value of a: \n",
      "1\n",
      "Enter the Value of b: \n",
      "4\n",
      "Enter the Value of c: \n",
      "6\n",
      "\n",
      "Root 1 = (-2-1.4142135623730951j)\n",
      "Root 2 = (-2+1.4142135623730951j)\n"
     ]
    }
   ],
   "source": [
    "import cmath\n",
    "print(\"Enter the Value of a: \")\n",
    "a = int(input())\n",
    "print(\"Enter the Value of b: \")\n",
    "b = int(input())\n",
    "print(\"Enter the Value of c: \")\n",
    "c = int(input())\n",
    "discriminant = (b**2) - (4*a*c)\n",
    "solutionOne = (-b-cmath.sqrt(discriminant))/(2*a)\n",
    "solutionTwo = (-b+cmath.sqrt(discriminant))/(2*a)\n",
    "print(\"\\nRoot 1 =\", solutionOne)\n",
    "print(\"Root 2 =\", solutionTwo)"
   ]
  },
  {
   "cell_type": "code",
   "execution_count": 10,
   "id": "ef514f29",
   "metadata": {},
   "outputs": [
    {
     "name": "stdout",
     "output_type": "stream",
     "text": [
      "Equation: ax^2 + bx + c \n",
      "Enter a: 1\n",
      "Enter b: -5\n",
      "Enter c: 6\n",
      "The first root:  3.0\n",
      "The second root:  2.0\n"
     ]
    }
   ],
   "source": [
    "print(\"Equation: ax^2 + bx + c \")\n",
    "a=int(input(\"Enter a: \"))\n",
    "b=int(input(\"Enter b: \"))\n",
    "c=int(input(\"Enter c: \"))\n",
    "d=b**2-4*a*c\n",
    "d1=d**0.5\n",
    "if(d<0):\n",
    "    print(\"The roots are imaginary. \")\n",
    "else:\n",
    "    r1=(-b+d1)/2*a\n",
    "    r2=(-b-d1)/2*a\n",
    "    print(\"The first root: \",round(r1,2))\n",
    "    print(\"The second root: \",round(r2,2))"
   ]
  },
  {
   "cell_type": "code",
   "execution_count": 25,
   "id": "831881a6",
   "metadata": {},
   "outputs": [
    {
     "name": "stdout",
     "output_type": "stream",
     "text": [
      "Enter value of x: 4\n",
      "Enter value of y: 5\n",
      "The value of x after swapping:5 \n",
      "The value of y after swapping:4 \n"
     ]
    }
   ],
   "source": [
    "# Python program to swap two variables\n",
    "#x = 5\n",
    "#y = 10\n",
    "# To take inputs from the user\n",
    "x = input('Enter value of x: ')\n",
    "y = input('Enter value of y: ')\n",
    "# create a temporary variable and swap the values\n",
    "temp = x\n",
    "x = y\n",
    "y = temp\n",
    "print('The value of x after swapping:{} '.format(x))\n",
    "print('The value of y after swapping:{} '.format(y))"
   ]
  },
  {
   "cell_type": "code",
   "execution_count": 16,
   "id": "b54706f1",
   "metadata": {},
   "outputs": [
    {
     "name": "stdout",
     "output_type": "stream",
     "text": [
      "Enter a number: 489\n",
      "489 is not an Armstrong number\n"
     ]
    }
   ],
   "source": [
    "# Python program to check if the number is an Armstrong number or not\n",
    "# take input from the user\n",
    "num = int(input(\"Enter a number: \"))\n",
    "# initialize sum\n",
    "sum = 0\n",
    "# find the sum of the cube of each digit\n",
    "temp = num\n",
    "while temp > 0:\n",
    "   digit = temp % 10\n",
    "   sum += digit ** 3\n",
    "   temp //= 10\n",
    "# display the result\n",
    "if num == sum:\n",
    "   print(num,\"is an Armstrong number\")\n",
    "else:\n",
    "   print(num,\"is not an Armstrong number\")"
   ]
  },
  {
   "cell_type": "code",
   "execution_count": 36,
   "id": "e1e34224",
   "metadata": {},
   "outputs": [
    {
     "name": "stdout",
     "output_type": "stream",
     "text": [
      "Enter first number: 4\n",
      "Enter second number: 6\n",
      "The H.C.F. of 4 , 6 is 2\n"
     ]
    }
   ],
   "source": [
    "# Python program to find H.C.F of two numbers using while loop\n",
    "\n",
    "# taking input from users  \n",
    "num1 = int(input(\"Enter first number: \"))  \n",
    "num2 = int(input(\"Enter second number: \"))\n",
    "\n",
    "i = 1\n",
    "while(i <= num1 and i <= num2):\n",
    "    if(num1 % i == 0 and num2 % i == 0):\n",
    "        gcd = i\n",
    "    i = i + 1\n",
    "\n",
    "print(\"The H.C.F. of {} , {} is {}\" .format(num1,num2,gcd))\n"
   ]
  },
  {
   "cell_type": "code",
   "execution_count": 23,
   "id": "fe551c6e",
   "metadata": {},
   "outputs": [
    {
     "name": "stdout",
     "output_type": "stream",
     "text": [
      "The H.C.F. is 2\n"
     ]
    }
   ],
   "source": [
    "# Python program to find H.C.F of two numbers\n",
    "# define a function\n",
    "def compute_hcf(x, y):\n",
    "# choose the smaller number\n",
    "    if x > y:\n",
    "        smaller = y\n",
    "    else:\n",
    "        smaller = x\n",
    "    for i in range(1, smaller+1):\n",
    "        if((x % i == 0) and (y % i == 0)):\n",
    "            hcf = i \n",
    "    return hcf\n",
    "num1 = 6\n",
    "num2 = 8\n",
    "print(\"The H.C.F. is\", compute_hcf(num1, num2))"
   ]
  },
  {
   "cell_type": "code",
   "execution_count": 39,
   "id": "51bdc540",
   "metadata": {},
   "outputs": [
    {
     "name": "stdout",
     "output_type": "stream",
     "text": [
      "Enter first number: 6\n",
      "Enter second number: 8\n",
      "The L.C.M. is 24\n"
     ]
    }
   ],
   "source": [
    "def compute_lcm(x, y):\n",
    "   if x > y:\n",
    "       greater = x\n",
    "   else:\n",
    "       greater = y\n",
    "   while(True):\n",
    "       if((greater % x == 0) and (greater % y == 0)):\n",
    "           lcm = greater\n",
    "           break\n",
    "       greater += 1\n",
    "   return lcm\n",
    "num1 = int(input(\"Enter first number: \"))  \n",
    "num2 = int(input(\"Enter second number: \"))\n",
    "print(\"The L.C.M. is\", compute_lcm(num1, num2))\n"
   ]
  },
  {
   "cell_type": "code",
   "execution_count": 40,
   "id": "85a95334",
   "metadata": {},
   "outputs": [
    {
     "name": "stdout",
     "output_type": "stream",
     "text": [
      "Result matrix is\n",
      "1  2  3  4  \n",
      "2  2  3  4  \n",
      "3  3  3  4  \n",
      "4  4  4  4  \n"
     ]
    }
   ],
   "source": [
    "# Python3 Program to find\n",
    "# transpose of a matrix\n",
    "N = 4\n",
    "# This function stores\n",
    "# transpose of A[][] in B[][]\n",
    " \n",
    "def transpose(A,B):\n",
    "    \n",
    " for i in range(N):\n",
    "\n",
    "  for j in range(N):\n",
    "   B[i][j] = A[j][i]\n",
    "# driver code\n",
    "A = [ [1, 1, 1, 1],\n",
    "    [2, 2, 2, 2],\n",
    "    [3, 3, 3, 3],\n",
    "    [4, 4, 4, 4]] \n",
    "B = A[:][:] # To store result\n",
    "transpose(A, B)\n",
    "print(\"Result matrix is\")\n",
    "for i in range(N):\n",
    " for j in range(N):\n",
    "  print(B[i][j], \" \", end='')\n",
    " print()\n"
   ]
  },
  {
   "cell_type": "code",
   "execution_count": 43,
   "id": "b046ec98",
   "metadata": {},
   "outputs": [
    {
     "name": "stdout",
     "output_type": "stream",
     "text": [
      "The transpose of matrix A is: \n",
      "[5, 2, 4, 8]\n",
      "[4, 4, 7, 1]\n",
      "[3, 6, 9, 3]\n"
     ]
    }
   ],
   "source": [
    "# Define a matrix A  \n",
    "A = [[5, 4, 3],  \n",
    "         [2, 4, 6],  \n",
    "         [4, 7, 9],  \n",
    "         [8, 1, 3]]  \n",
    "# Define an empty matrix of reverse order  \n",
    "transResult = [[0, 0, 0, 0],    \n",
    "                             [0, 0, 0, 0],  \n",
    "                             [0, 0, 0, 0]]  \n",
    "# Use nested for loop on matrix A  \n",
    "for a in range(len(A)):    \n",
    "   for b in range(len(A[0])):    \n",
    "          transResult[b][a] = A[a][b] # store transpose result on empty matrix          \n",
    "# Printing result in the output  \n",
    "print(\"The transpose of matrix A is: \")  \n",
    "for res in transResult:    \n",
    "   print(res)  "
   ]
  },
  {
   "cell_type": "code",
   "execution_count": 45,
   "id": "39697bb9",
   "metadata": {},
   "outputs": [
    {
     "name": "stdout",
     "output_type": "stream",
     "text": [
      "Result matrix is\n",
      "1  2  3  \n",
      "3  2  3  \n",
      "1  2  3  \n",
      "1  2  3  \n"
     ]
    }
   ],
   "source": [
    "# Python3 Program to find(2)\n",
    "# transpose of a matrix\n",
    " \n",
    "M = 3\n",
    "N = 4\n",
    " \n",
    "# This function stores\n",
    "# transpose of A[][] in B[][]\n",
    " \n",
    "def transpose(A, B):\n",
    " \n",
    " for i in range(N):\n",
    "  for j in range(M):\n",
    "   B[i][j] = A[j][i]\n",
    " \n",
    "# driver code\n",
    "A = [ [1, 3, 1, 1],\n",
    " [2, 2, 2, 2],\n",
    " [3, 3, 3, 3]]\n",
    " \n",
    " \n",
    "# To store result\n",
    "B = [[0 for x in range(M)] for y in range(N)]\n",
    " \n",
    "transpose(A, B)\n",
    " \n",
    "print(\"Result matrix is\")\n",
    "for i in range(N):\n",
    " for j in range(M):\n",
    "  print(B[i][j], \" \", end='')\n",
    " print() "
   ]
  },
  {
   "cell_type": "code",
   "execution_count": 46,
   "id": "8952f361",
   "metadata": {},
   "outputs": [
    {
     "name": "stdout",
     "output_type": "stream",
     "text": [
      "[17, 15, 4]\n",
      "[10, 12, 9]\n",
      "[11, 13, 18]\n"
     ]
    }
   ],
   "source": [
    "# Program to add two matrices using nested loop\n",
    "\n",
    "X = [[12,7,3],\n",
    "    [4 ,5,6],\n",
    "    [7 ,8,9]]\n",
    "\n",
    "Y = [[5,8,1],\n",
    "    [6,7,3],\n",
    "    [4,5,9]]\n",
    "\n",
    "result = [[0,0,0],\n",
    "         [0,0,0],\n",
    "         [0,0,0]]\n",
    "\n",
    "# iterate through rows\n",
    "for i in range(len(X)):\n",
    "   # iterate through columns\n",
    "   for j in range(len(X[0])):\n",
    "       result[i][j] = X[i][j] + Y[i][j]\n",
    "\n",
    "for r in result:\n",
    "   print(r)"
   ]
  },
  {
   "cell_type": "code",
   "execution_count": 60,
   "id": "28d0415d",
   "metadata": {},
   "outputs": [
    {
     "name": "stdout",
     "output_type": "stream",
     "text": [
      "Original dictionary:  {'A': 13, 'B': 7, 'C': 0, 'D': 10}\n",
      "Sorted dictionary:  {'C': 0, 'B': 7, 'D': 10, 'A': 13}\n"
     ]
    }
   ],
   "source": [
    "#sort a dictionary by value\n",
    "dic= {\"A\": 13, \"B\": 7, \"C\": 0, \"D\": 10 }\n",
    "\n",
    "sorted_dic= {}\n",
    "sorted_values = sorted(dic, key=dic.get) \n",
    "\n",
    "print(\"Original dictionary: \",dic)\n",
    "\n",
    "for i in sorted_values:\n",
    "    sorted_dic[i] = dic[i]\n",
    "print(\"Sorted dictionary: \", sorted_dic)\n"
   ]
  },
  {
   "cell_type": "code",
   "execution_count": 52,
   "id": "7b338f52",
   "metadata": {},
   "outputs": [
    {
     "name": "stdout",
     "output_type": "stream",
     "text": [
      "{'A': 90, 'B': 2, 'C': 3}\n",
      "[2, 3, 90]\n"
     ]
    }
   ],
   "source": [
    "dt = {\"A\":90, \"B\":2, \"C\":3}\n",
    "\n",
    "sorted_dt_value = sorted(dt.values())\n",
    "print(dt)\n",
    "print(sorted_dt_value)\n"
   ]
  },
  {
   "cell_type": "code",
   "execution_count": 68,
   "id": "a6c604f1",
   "metadata": {},
   "outputs": [
    {
     "name": "stdout",
     "output_type": "stream",
     "text": [
      "2018-12-04 10:07:00\n"
     ]
    }
   ],
   "source": [
    "import datetime\n",
    " \n",
    "# Function to convert string to datetime\n",
    "def convert(date_time):\n",
    "    format = '%b %d %Y %I:%M%p'  # The format\n",
    "    datetime_str = datetime.datetime.strptime(date_time, format)\n",
    " \n",
    "    return datetime_str\n",
    " \n",
    " \n",
    "# Driver code\n",
    "date_time = 'Dec 4 2018 10:07AM'\n",
    "print(convert(date_time))"
   ]
  },
  {
   "cell_type": "code",
   "execution_count": 70,
   "id": "cc3c39a4",
   "metadata": {},
   "outputs": [
    {
     "name": "stdout",
     "output_type": "stream",
     "text": [
      "<class 'datetime.datetime'>\n",
      "2022-12-05 11:31:00\n"
     ]
    }
   ],
   "source": [
    "from datetime import datetime\n",
    "\n",
    "my_date_string = \"Dec 5 2022  11:31AM\"\n",
    "\n",
    "datetime_object = datetime.strptime(my_date_string, '%b %d %Y %I:%M%p')\n",
    "\n",
    "print(type(datetime_object))\n",
    "print(datetime_object)"
   ]
  },
  {
   "cell_type": "code",
   "execution_count": 74,
   "id": "976e48a7",
   "metadata": {},
   "outputs": [
    {
     "name": "stdout",
     "output_type": "stream",
     "text": [
      "Reversed Number: 4321\n"
     ]
    }
   ],
   "source": [
    "num = 1234\n",
    "reversed_num = 0\n",
    "\n",
    "while num != 0:\n",
    "    digit = num % 10\n",
    "    reversed_num = reversed_num * 10 + digit\n",
    "    num //= 10\n",
    "\n",
    "print(\"Reversed Number: \" + str(reversed_num))"
   ]
  },
  {
   "cell_type": "code",
   "execution_count": 75,
   "id": "075213bb",
   "metadata": {},
   "outputs": [
    {
     "name": "stdout",
     "output_type": "stream",
     "text": [
      "Answer = 12\n",
      "Answer = 144\n"
     ]
    }
   ],
   "source": [
    "base = 12\n",
    "power = 2\n",
    "result = 1\n",
    "while power !=0:\n",
    "    result*=base\n",
    "    power-=1\n",
    "    print(\"Answer = \"+ str(result))"
   ]
  },
  {
   "cell_type": "code",
   "execution_count": 77,
   "id": "8acb0daf",
   "metadata": {},
   "outputs": [
    {
     "name": "stdout",
     "output_type": "stream",
     "text": [
      "stop1\n"
     ]
    }
   ],
   "source": [
    "import time\n",
    "\n",
    "def countdown(time_sec):\n",
    "    while time_sec:\n",
    "        mins, secs = divmod(time_sec, 60)\n",
    "        timeformat = '{:02d}:{:02d}'.format(mins, secs)\n",
    "        print(timeformat, end='\\r')\n",
    "        time.sleep(1)\n",
    "        time_sec -= 1\n",
    "\n",
    "    print(\"stop\")\n",
    "\n",
    "countdown(10)"
   ]
  },
  {
   "cell_type": "code",
   "execution_count": 78,
   "id": "d1ea0a9e",
   "metadata": {},
   "outputs": [
    {
     "name": "stdout",
     "output_type": "stream",
     "text": [
      "Easy or Difficult ✅\n"
     ]
    }
   ],
   "source": [
    "print(b'Easy or Difficult \\xE2\\x9C\\x85'.decode(\"utf-8\"))"
   ]
  },
  {
   "cell_type": "code",
   "execution_count": 81,
   "id": "b29be88f",
   "metadata": {},
   "outputs": [
    {
     "name": "stdout",
     "output_type": "stream",
     "text": [
      "\n",
      "Input:\n",
      "b'GeeksForGeeks'\n",
      "<class 'bytes'>\n",
      "\n",
      "Output:\n",
      "GeeksForGeeks\n",
      "<class 'str'>\n"
     ]
    }
   ],
   "source": [
    "data = b'GeeksForGeeks'\n",
    " \n",
    "# display input\n",
    "print('\\nInput:')\n",
    "print(data)\n",
    "print(type(data))\n",
    " \n",
    "# converting\n",
    "output = data.decode()\n",
    " \n",
    "# display output\n",
    "print('\\nOutput:')\n",
    "print(output)\n",
    "print(type(output))"
   ]
  },
  {
   "cell_type": "code",
   "execution_count": null,
   "id": "5b3fe1ab",
   "metadata": {},
   "outputs": [],
   "source": []
  }
 ],
 "metadata": {
  "kernelspec": {
   "display_name": "Python 3 (ipykernel)",
   "language": "python",
   "name": "python3"
  },
  "language_info": {
   "codemirror_mode": {
    "name": "ipython",
    "version": 3
   },
   "file_extension": ".py",
   "mimetype": "text/x-python",
   "name": "python",
   "nbconvert_exporter": "python",
   "pygments_lexer": "ipython3",
   "version": "3.9.7"
  }
 },
 "nbformat": 4,
 "nbformat_minor": 5
}
